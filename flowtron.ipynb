{
  "nbformat": 4,
  "nbformat_minor": 0,
  "metadata": {
    "colab": {
      "name": "flowtron.ipynb",
      "provenance": []
    },
    "kernelspec": {
      "name": "python3",
      "display_name": "Python 3"
    },
    "accelerator": "GPU"
  },
  "cells": [
    {
      "cell_type": "code",
      "metadata": {
        "colab": {
          "base_uri": "https://localhost:8080/"
        },
        "id": "yVoIpFNkIO-Z",
        "outputId": "2e5ca03d-fb50-4c4a-88e0-da07e5569b38"
      },
      "source": [
        "!pip install unidecode tensorboardX\n",
        "!git clone --recursive https://github.com/NVIDIA/flowtron"
      ],
      "execution_count": 1,
      "outputs": [
        {
          "output_type": "stream",
          "text": [
            "Collecting unidecode\n",
            "\u001b[?25l  Downloading https://files.pythonhosted.org/packages/d0/42/d9edfed04228bacea2d824904cae367ee9efd05e6cce7ceaaedd0b0ad964/Unidecode-1.1.1-py2.py3-none-any.whl (238kB)\n",
            "\r\u001b[K     |█▍                              | 10kB 21.7MB/s eta 0:00:01\r\u001b[K     |██▊                             | 20kB 26.1MB/s eta 0:00:01\r\u001b[K     |████▏                           | 30kB 27.7MB/s eta 0:00:01\r\u001b[K     |█████▌                          | 40kB 20.4MB/s eta 0:00:01\r\u001b[K     |██████▉                         | 51kB 15.0MB/s eta 0:00:01\r\u001b[K     |████████▎                       | 61kB 13.9MB/s eta 0:00:01\r\u001b[K     |█████████▋                      | 71kB 13.6MB/s eta 0:00:01\r\u001b[K     |███████████                     | 81kB 14.4MB/s eta 0:00:01\r\u001b[K     |████████████▍                   | 92kB 13.4MB/s eta 0:00:01\r\u001b[K     |█████████████▊                  | 102kB 12.2MB/s eta 0:00:01\r\u001b[K     |███████████████▏                | 112kB 12.2MB/s eta 0:00:01\r\u001b[K     |████████████████▌               | 122kB 12.2MB/s eta 0:00:01\r\u001b[K     |█████████████████▉              | 133kB 12.2MB/s eta 0:00:01\r\u001b[K     |███████████████████▎            | 143kB 12.2MB/s eta 0:00:01\r\u001b[K     |████████████████████▋           | 153kB 12.2MB/s eta 0:00:01\r\u001b[K     |██████████████████████          | 163kB 12.2MB/s eta 0:00:01\r\u001b[K     |███████████████████████▍        | 174kB 12.2MB/s eta 0:00:01\r\u001b[K     |████████████████████████▊       | 184kB 12.2MB/s eta 0:00:01\r\u001b[K     |██████████████████████████▏     | 194kB 12.2MB/s eta 0:00:01\r\u001b[K     |███████████████████████████▌    | 204kB 12.2MB/s eta 0:00:01\r\u001b[K     |████████████████████████████▉   | 215kB 12.2MB/s eta 0:00:01\r\u001b[K     |██████████████████████████████▎ | 225kB 12.2MB/s eta 0:00:01\r\u001b[K     |███████████████████████████████▋| 235kB 12.2MB/s eta 0:00:01\r\u001b[K     |████████████████████████████████| 245kB 12.2MB/s \n",
            "\u001b[?25hCollecting tensorboardX\n",
            "\u001b[?25l  Downloading https://files.pythonhosted.org/packages/af/0c/4f41bcd45db376e6fe5c619c01100e9b7531c55791b7244815bac6eac32c/tensorboardX-2.1-py2.py3-none-any.whl (308kB)\n",
            "\u001b[K     |████████████████████████████████| 317kB 20.4MB/s \n",
            "\u001b[?25hRequirement already satisfied: protobuf>=3.8.0 in /usr/local/lib/python3.6/dist-packages (from tensorboardX) (3.12.4)\n",
            "Requirement already satisfied: numpy in /usr/local/lib/python3.6/dist-packages (from tensorboardX) (1.18.5)\n",
            "Requirement already satisfied: six in /usr/local/lib/python3.6/dist-packages (from tensorboardX) (1.15.0)\n",
            "Requirement already satisfied: setuptools in /usr/local/lib/python3.6/dist-packages (from protobuf>=3.8.0->tensorboardX) (50.3.2)\n",
            "Installing collected packages: unidecode, tensorboardX\n",
            "Successfully installed tensorboardX-2.1 unidecode-1.1.1\n",
            "Cloning into 'flowtron'...\n",
            "remote: Enumerating objects: 36, done.\u001b[K\n",
            "remote: Counting objects: 100% (36/36), done.\u001b[K\n",
            "remote: Compressing objects: 100% (31/31), done.\u001b[K\n",
            "remote: Total 171 (delta 14), reused 16 (delta 5), pack-reused 135\u001b[K\n",
            "Receiving objects: 100% (171/171), 2.81 MiB | 5.50 MiB/s, done.\n",
            "Resolving deltas: 100% (64/64), done.\n",
            "Submodule 'apex' (https://github.com/NVIDIA/apex) registered for path 'apex'\n",
            "Submodule 'tacotron2' (https://github.com/NVIDIA/tacotron2) registered for path 'tacotron2'\n",
            "Cloning into '/content/flowtron/apex'...\n",
            "remote: Enumerating objects: 30, done.        \n",
            "remote: Counting objects: 100% (30/30), done.        \n",
            "remote: Compressing objects: 100% (30/30), done.        \n",
            "remote: Total 7865 (delta 7), reused 10 (delta 0), pack-reused 7835        \n",
            "Receiving objects: 100% (7865/7865), 13.99 MiB | 13.90 MiB/s, done.\n",
            "Resolving deltas: 100% (5356/5356), done.\n",
            "Cloning into '/content/flowtron/tacotron2'...\n",
            "remote: Enumerating objects: 406, done.        \n",
            "remote: Total 406 (delta 0), reused 0 (delta 0), pack-reused 406        \n",
            "Receiving objects: 100% (406/406), 2.69 MiB | 4.79 MiB/s, done.\n",
            "Resolving deltas: 100% (205/205), done.\n",
            "Submodule path 'apex': checked out '9165b27fdf240f9bc08eac98b849a9d7c6308917'\n",
            "Submodule 'apex/contrib/csrc/multihead_attn/cutlass' (https://github.com/NVIDIA/cutlass.git) registered for path 'apex/apex/contrib/csrc/multihead_attn/cutlass'\n",
            "Cloning into '/content/flowtron/apex/apex/contrib/csrc/multihead_attn/cutlass'...\n",
            "remote: Enumerating objects: 10820, done.        \n",
            "remote: Total 10820 (delta 0), reused 0 (delta 0), pack-reused 10820        \n",
            "Receiving objects: 100% (10820/10820), 15.88 MiB | 11.73 MiB/s, done.\n",
            "Resolving deltas: 100% (7683/7683), done.\n",
            "Submodule path 'apex/apex/contrib/csrc/multihead_attn/cutlass': checked out 'ed2ed4d667ce95e1371bd62db32b6a114e774336'\n",
            "Submodule 'tools/external/googletest' (https://github.com/google/googletest.git) registered for path 'apex/apex/contrib/csrc/multihead_attn/cutlass/tools/external/googletest'\n",
            "Cloning into '/content/flowtron/apex/apex/contrib/csrc/multihead_attn/cutlass/tools/external/googletest'...\n",
            "remote: Enumerating objects: 32, done.        \n",
            "remote: Counting objects: 100% (32/32), done.        \n",
            "remote: Compressing objects: 100% (26/26), done.        \n",
            "remote: Total 21506 (delta 10), reused 12 (delta 5), pack-reused 21474        \n",
            "Receiving objects: 100% (21506/21506), 8.22 MiB | 3.42 MiB/s, done.\n",
            "Resolving deltas: 100% (15920/15920), done.\n",
            "Submodule path 'apex/apex/contrib/csrc/multihead_attn/cutlass/tools/external/googletest': checked out '9077ec7efe5b652468ab051e93c67589d5cb8f85'\n",
            "Submodule path 'tacotron2': checked out '6f435f7f29c3e1553cf2dd7ca2daf56903b20c39'\n",
            "Submodule 'waveglow' (https://github.com/NVIDIA/waveglow) registered for path 'tacotron2/waveglow'\n",
            "Cloning into '/content/flowtron/tacotron2/waveglow'...\n",
            "remote: Enumerating objects: 190, done.        \n",
            "remote: Total 190 (delta 0), reused 0 (delta 0), pack-reused 190        \n",
            "Receiving objects: 100% (190/190), 435.59 KiB | 1.09 MiB/s, done.\n",
            "Resolving deltas: 100% (106/106), done.\n",
            "Submodule path 'tacotron2/waveglow': checked out '2fd4e63e2918012f55eac2c8a8e75622a39741be'\n",
            "Submodule 'tacotron2' (http://github.com/NVIDIA/tacotron2) registered for path 'tacotron2/waveglow/tacotron2'\n",
            "Cloning into '/content/flowtron/tacotron2/waveglow/tacotron2'...\n",
            "warning: redirecting to https://github.com/NVIDIA/tacotron2/\n",
            "remote: Enumerating objects: 406, done.        \n",
            "remote: Total 406 (delta 0), reused 0 (delta 0), pack-reused 406        \n",
            "Receiving objects: 100% (406/406), 2.69 MiB | 4.73 MiB/s, done.\n",
            "Resolving deltas: 100% (205/205), done.\n",
            "Submodule path 'tacotron2/waveglow/tacotron2': checked out 'fc0cf6a89a47166350b65daa1beaa06979e4cddf'\n"
          ],
          "name": "stdout"
        }
      ]
    },
    {
      "cell_type": "code",
      "metadata": {
        "colab": {
          "base_uri": "https://localhost:8080/"
        },
        "id": "b4VV5fuRKYkM",
        "outputId": "14f50186-1b71-4be2-ac2d-585242d956ef"
      },
      "source": [
        "%cd flowtron"
      ],
      "execution_count": 2,
      "outputs": [
        {
          "output_type": "stream",
          "text": [
            "/content/flowtron\n"
          ],
          "name": "stdout"
        }
      ]
    },
    {
      "cell_type": "code",
      "metadata": {
        "id": "QQRndvA-OXoJ"
      },
      "source": [
        "!mkdir models"
      ],
      "execution_count": 3,
      "outputs": []
    },
    {
      "cell_type": "code",
      "metadata": {
        "id": "apJZvkwnHiIe"
      },
      "source": [
        "import sys\n",
        "import json\n",
        "import torch\n",
        "import gdown\n",
        "import matplotlib\n",
        "\n",
        "from data import Data\n",
        "import IPython.display as ipd\n",
        "from flowtron import Flowtron\n",
        "import matplotlib.pylab as plt\n",
        "from train import update_params\n",
        "from torch.distributions import Normal\n",
        "\n",
        "sys.path.insert(0, \"tacotron2\")\n",
        "sys.path.insert(0, \"tacotron2/waveglow\")\n",
        "\n",
        "from denoiser import Denoiser"
      ],
      "execution_count": 4,
      "outputs": []
    },
    {
      "cell_type": "code",
      "metadata": {
        "colab": {
          "base_uri": "https://localhost:8080/"
        },
        "id": "Bwfn-U8xL_G_",
        "outputId": "6e4f4f3d-168a-46a1-9e5d-500d17056b1e"
      },
      "source": [
        "gdown.download('https://drive.google.com/uc?id=1Cjd6dK_eFz6DE0PKXKgKxrzTUqzzUDW-', 'models/flowtron_ljs.pt', quiet=False)\n",
        "gdown.download('https://drive.google.com/uc?id=1rpK8CzAAirq9sWZhe9nlfvxMF1dRgFbF', 'models/waveglow_256channels_universal_v5.pt', quiet=False)\n",
        "gdown.download('https://drive.google.com/uc?id=100YJu80Y-k5katrwzzE6rFoEHJ2rLmkc', 'data/surprised_samples.zip', quiet=False)\n",
        "%cd data\n",
        "!unzip surprised_samples.zip\n",
        "%cd .."
      ],
      "execution_count": 5,
      "outputs": [
        {
          "output_type": "stream",
          "text": [
            "Downloading...\n",
            "From: https://drive.google.com/uc?id=1Cjd6dK_eFz6DE0PKXKgKxrzTUqzzUDW-\n",
            "To: /content/flowtron/models/flowtron_ljs.pt\n",
            "244MB [00:02, 82.6MB/s]\n",
            "Downloading...\n",
            "From: https://drive.google.com/uc?id=1rpK8CzAAirq9sWZhe9nlfvxMF1dRgFbF\n",
            "To: /content/flowtron/models/waveglow_256channels_universal_v5.pt\n",
            "676MB [00:09, 72.1MB/s]\n",
            "Downloading...\n",
            "From: https://drive.google.com/uc?id=100YJu80Y-k5katrwzzE6rFoEHJ2rLmkc\n",
            "To: /content/flowtron/data/surprised_samples.zip\n",
            "100%|██████████| 539k/539k [00:00<00:00, 79.0MB/s]"
          ],
          "name": "stderr"
        },
        {
          "output_type": "stream",
          "text": [
            "/content/flowtron/data\n",
            "Archive:  surprised_samples.zip\n",
            "   creating: surprised_samples/\n",
            "  inflating: surprised_samples/LICENSE  \n",
            "   creating: __MACOSX/\n",
            "   creating: __MACOSX/surprised_samples/\n",
            "  inflating: __MACOSX/surprised_samples/._LICENSE  \n",
            "  inflating: surprised_samples/03-01-08-02-01-01-24.wav  \n",
            "  inflating: surprised_samples/03-01-08-01-02-01-24.wav  \n",
            "  inflating: surprised_samples/03-01-08-02-02-02-24.wav  \n",
            "  inflating: surprised_samples/03-01-08-01-01-02-24.wav  \n",
            "  inflating: surprised_samples/03-01-08-01-02-02-24.wav  \n",
            "  inflating: surprised_samples/03-01-08-02-01-02-24.wav  \n",
            "  inflating: surprised_samples/03-01-08-01-01-01-24.wav  \n",
            "  inflating: surprised_samples/03-01-08-02-02-01-24.wav  \n",
            "  inflating: surprised_samples/surprised_audiofilelist_text.txt  \n",
            "  inflating: __MACOSX/surprised_samples/._surprised_audiofilelist_text.txt  \n",
            "/content/flowtron\n"
          ],
          "name": "stdout"
        },
        {
          "output_type": "stream",
          "text": [
            "\n"
          ],
          "name": "stderr"
        }
      ]
    },
    {
      "cell_type": "markdown",
      "metadata": {
        "id": "7sfNx3pSL1bn"
      },
      "source": [
        "### Load FlowTron"
      ]
    },
    {
      "cell_type": "code",
      "metadata": {
        "colab": {
          "base_uri": "https://localhost:8080/"
        },
        "id": "sJ1kvcI_L4Ne",
        "outputId": "733a9c8a-7993-48b8-bc4d-b110dbb8daf6"
      },
      "source": [
        "config_path = \"config.json\"\n",
        "params = [\"model_config.dummy_speaker_embedding=0\",\n",
        "          \"data_config.p_arpabet=1.0\"]\n",
        "\n",
        "with open(config_path) as f:\n",
        "    data = f.read()\n",
        "\n",
        "config = json.loads(data)\n",
        "update_params(config, params)\n",
        "\n",
        "data_config = config[\"data_config\"]\n",
        "model_config = config[\"model_config\"]"
      ],
      "execution_count": 6,
      "outputs": [
        {
          "output_type": "stream",
          "text": [
            "model_config.dummy_speaker_embedding=0\n",
            "dummy_speaker_embedding=0\n",
            "data_config.p_arpabet=1.0\n",
            "p_arpabet=1.0\n"
          ],
          "name": "stdout"
        }
      ]
    },
    {
      "cell_type": "code",
      "metadata": {
        "id": "gmJvhupNL5AX"
      },
      "source": [
        "model_path = \"models/flowtron_ljs.pt\"\n",
        "state_dict = torch.load(model_path, map_location='cpu')['state_dict']\n",
        "model = Flowtron(**model_config)\n",
        "model.load_state_dict(state_dict)\n",
        "_ = model.eval().cuda()"
      ],
      "execution_count": 7,
      "outputs": []
    },
    {
      "cell_type": "markdown",
      "metadata": {
        "id": "7RKtZSOASGcy"
      },
      "source": [
        "### Load WaveGlow"
      ]
    },
    {
      "cell_type": "code",
      "metadata": {
        "colab": {
          "base_uri": "https://localhost:8080/"
        },
        "id": "EThEkue8SL2g",
        "outputId": "3dd65ff2-498b-4a8f-ae3b-72b8cf1831ec"
      },
      "source": [
        "waveglow_path = 'models/waveglow_256channels_universal_v5.pt'\n",
        "waveglow = torch.load(waveglow_path)['model']\n",
        "_ = waveglow.eval().cuda()\n",
        "denoiser = Denoiser(waveglow).cuda().eval()"
      ],
      "execution_count": 8,
      "outputs": [
        {
          "output_type": "stream",
          "text": [
            "/usr/local/lib/python3.6/dist-packages/torch/serialization.py:658: SourceChangeWarning: source code of class 'torch.nn.modules.conv.ConvTranspose1d' has changed. you can retrieve the original source code by accessing the object's source attribute or set `torch.nn.Module.dump_patches = True` and use the patch tool to revert the changes.\n",
            "  warnings.warn(msg, SourceChangeWarning)\n",
            "/usr/local/lib/python3.6/dist-packages/torch/serialization.py:658: SourceChangeWarning: source code of class 'torch.nn.modules.container.ModuleList' has changed. you can retrieve the original source code by accessing the object's source attribute or set `torch.nn.Module.dump_patches = True` and use the patch tool to revert the changes.\n",
            "  warnings.warn(msg, SourceChangeWarning)\n",
            "/usr/local/lib/python3.6/dist-packages/torch/serialization.py:658: SourceChangeWarning: source code of class 'torch.nn.modules.conv.Conv1d' has changed. you can retrieve the original source code by accessing the object's source attribute or set `torch.nn.Module.dump_patches = True` and use the patch tool to revert the changes.\n",
            "  warnings.warn(msg, SourceChangeWarning)\n"
          ],
          "name": "stderr"
        }
      ]
    },
    {
      "cell_type": "markdown",
      "metadata": {
        "id": "zw3aPyQYSVww"
      },
      "source": [
        "### Prep DataLoader"
      ]
    },
    {
      "cell_type": "code",
      "metadata": {
        "colab": {
          "base_uri": "https://localhost:8080/"
        },
        "id": "7uZxyJQNSXZ4",
        "outputId": "f2f9e45d-1cdb-44fc-9b3d-ece2ee54963b"
      },
      "source": [
        "dataset_path = 'data/surprised_samples/surprised_audiofilelist_text.txt'\n",
        "dataset = Data(\n",
        "    dataset_path,\n",
        "    **dict((k, v) for k, v in data_config.items() if k not in ['training_files', 'validation_files']))"
      ],
      "execution_count": 9,
      "outputs": [
        {
          "output_type": "stream",
          "text": [
            "Number of speakers : 1\n",
            "Number of speakers : 1\n"
          ],
          "name": "stdout"
        }
      ]
    }
  ]
}