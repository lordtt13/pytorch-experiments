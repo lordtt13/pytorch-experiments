{
  "nbformat": 4,
  "nbformat_minor": 0,
  "metadata": {
    "colab": {
      "name": "flowtron.ipynb",
      "provenance": []
    },
    "kernelspec": {
      "name": "python3",
      "display_name": "Python 3"
    },
    "accelerator": "GPU"
  },
  "cells": [
    {
      "cell_type": "code",
      "metadata": {
        "colab": {
          "base_uri": "https://localhost:8080/"
        },
        "id": "yVoIpFNkIO-Z",
        "outputId": "04e7e1c7-f058-48b1-a501-5d627a69209d"
      },
      "source": [
        "!pip install unidecode tensorboardX\n",
        "!git clone --recursive https://github.com/NVIDIA/flowtron"
      ],
      "execution_count": 1,
      "outputs": [
        {
          "output_type": "stream",
          "text": [
            "Collecting unidecode\n",
            "\u001b[?25l  Downloading https://files.pythonhosted.org/packages/d0/42/d9edfed04228bacea2d824904cae367ee9efd05e6cce7ceaaedd0b0ad964/Unidecode-1.1.1-py2.py3-none-any.whl (238kB)\n",
            "\u001b[K     |████████████████████████████████| 245kB 6.6MB/s \n",
            "\u001b[?25hCollecting tensorboardX\n",
            "\u001b[?25l  Downloading https://files.pythonhosted.org/packages/af/0c/4f41bcd45db376e6fe5c619c01100e9b7531c55791b7244815bac6eac32c/tensorboardX-2.1-py2.py3-none-any.whl (308kB)\n",
            "\u001b[K     |████████████████████████████████| 317kB 15.6MB/s \n",
            "\u001b[?25hRequirement already satisfied: six in /usr/local/lib/python3.6/dist-packages (from tensorboardX) (1.15.0)\n",
            "Requirement already satisfied: numpy in /usr/local/lib/python3.6/dist-packages (from tensorboardX) (1.18.5)\n",
            "Requirement already satisfied: protobuf>=3.8.0 in /usr/local/lib/python3.6/dist-packages (from tensorboardX) (3.12.4)\n",
            "Requirement already satisfied: setuptools in /usr/local/lib/python3.6/dist-packages (from protobuf>=3.8.0->tensorboardX) (50.3.2)\n",
            "Installing collected packages: unidecode, tensorboardX\n",
            "Successfully installed tensorboardX-2.1 unidecode-1.1.1\n",
            "Cloning into 'flowtron'...\n",
            "remote: Enumerating objects: 36, done.\u001b[K\n",
            "remote: Counting objects: 100% (36/36), done.\u001b[K\n",
            "remote: Compressing objects: 100% (31/31), done.\u001b[K\n",
            "remote: Total 171 (delta 14), reused 16 (delta 5), pack-reused 135\u001b[K\n",
            "Receiving objects: 100% (171/171), 2.81 MiB | 12.25 MiB/s, done.\n",
            "Resolving deltas: 100% (64/64), done.\n",
            "Submodule 'apex' (https://github.com/NVIDIA/apex) registered for path 'apex'\n",
            "Submodule 'tacotron2' (https://github.com/NVIDIA/tacotron2) registered for path 'tacotron2'\n",
            "Cloning into '/content/flowtron/apex'...\n",
            "remote: Enumerating objects: 30, done.        \n",
            "remote: Counting objects: 100% (30/30), done.        \n",
            "remote: Compressing objects: 100% (30/30), done.        \n",
            "remote: Total 7865 (delta 7), reused 10 (delta 0), pack-reused 7835        \n",
            "Receiving objects: 100% (7865/7865), 13.99 MiB | 23.11 MiB/s, done.\n",
            "Resolving deltas: 100% (5354/5354), done.\n",
            "Cloning into '/content/flowtron/tacotron2'...\n",
            "remote: Enumerating objects: 406, done.        \n",
            "remote: Total 406 (delta 0), reused 0 (delta 0), pack-reused 406        \n",
            "Receiving objects: 100% (406/406), 2.69 MiB | 12.43 MiB/s, done.\n",
            "Resolving deltas: 100% (205/205), done.\n",
            "Submodule path 'apex': checked out '9165b27fdf240f9bc08eac98b849a9d7c6308917'\n",
            "Submodule 'apex/contrib/csrc/multihead_attn/cutlass' (https://github.com/NVIDIA/cutlass.git) registered for path 'apex/apex/contrib/csrc/multihead_attn/cutlass'\n",
            "Cloning into '/content/flowtron/apex/apex/contrib/csrc/multihead_attn/cutlass'...\n",
            "remote: Enumerating objects: 10820, done.        \n",
            "remote: Total 10820 (delta 0), reused 0 (delta 0), pack-reused 10820        \n",
            "Receiving objects: 100% (10820/10820), 15.88 MiB | 21.94 MiB/s, done.\n",
            "Resolving deltas: 100% (7683/7683), done.\n",
            "Submodule path 'apex/apex/contrib/csrc/multihead_attn/cutlass': checked out 'ed2ed4d667ce95e1371bd62db32b6a114e774336'\n",
            "Submodule 'tools/external/googletest' (https://github.com/google/googletest.git) registered for path 'apex/apex/contrib/csrc/multihead_attn/cutlass/tools/external/googletest'\n",
            "Cloning into '/content/flowtron/apex/apex/contrib/csrc/multihead_attn/cutlass/tools/external/googletest'...\n",
            "remote: Enumerating objects: 32, done.        \n",
            "remote: Counting objects: 100% (32/32), done.        \n",
            "remote: Compressing objects: 100% (26/26), done.        \n",
            "remote: Total 21506 (delta 10), reused 12 (delta 5), pack-reused 21474        \n",
            "Receiving objects: 100% (21506/21506), 8.22 MiB | 22.09 MiB/s, done.\n",
            "Resolving deltas: 100% (15920/15920), done.\n",
            "Submodule path 'apex/apex/contrib/csrc/multihead_attn/cutlass/tools/external/googletest': checked out '9077ec7efe5b652468ab051e93c67589d5cb8f85'\n",
            "Submodule path 'tacotron2': checked out '6f435f7f29c3e1553cf2dd7ca2daf56903b20c39'\n",
            "Submodule 'waveglow' (https://github.com/NVIDIA/waveglow) registered for path 'tacotron2/waveglow'\n",
            "Cloning into '/content/flowtron/tacotron2/waveglow'...\n",
            "remote: Enumerating objects: 190, done.        \n",
            "remote: Total 190 (delta 0), reused 0 (delta 0), pack-reused 190        \n",
            "Receiving objects: 100% (190/190), 435.40 KiB | 3.35 MiB/s, done.\n",
            "Resolving deltas: 100% (106/106), done.\n",
            "Submodule path 'tacotron2/waveglow': checked out '2fd4e63e2918012f55eac2c8a8e75622a39741be'\n",
            "Submodule 'tacotron2' (http://github.com/NVIDIA/tacotron2) registered for path 'tacotron2/waveglow/tacotron2'\n",
            "Cloning into '/content/flowtron/tacotron2/waveglow/tacotron2'...\n",
            "warning: redirecting to https://github.com/NVIDIA/tacotron2/\n",
            "remote: Enumerating objects: 406, done.        \n",
            "remote: Total 406 (delta 0), reused 0 (delta 0), pack-reused 406        \n",
            "Receiving objects: 100% (406/406), 2.69 MiB | 11.54 MiB/s, done.\n",
            "Resolving deltas: 100% (205/205), done.\n",
            "Submodule path 'tacotron2/waveglow/tacotron2': checked out 'fc0cf6a89a47166350b65daa1beaa06979e4cddf'\n"
          ],
          "name": "stdout"
        }
      ]
    },
    {
      "cell_type": "code",
      "metadata": {
        "colab": {
          "base_uri": "https://localhost:8080/"
        },
        "id": "b4VV5fuRKYkM",
        "outputId": "44a1187e-54e9-482c-98e7-94f95c83a0fc"
      },
      "source": [
        "%cd flowtron"
      ],
      "execution_count": 2,
      "outputs": [
        {
          "output_type": "stream",
          "text": [
            "/content/flowtron\n"
          ],
          "name": "stdout"
        }
      ]
    },
    {
      "cell_type": "code",
      "metadata": {
        "id": "apJZvkwnHiIe"
      },
      "source": [
        "import sys\n",
        "import json\n",
        "import torch\n",
        "import matplotlib\n",
        "\n",
        "from data import Data\n",
        "import IPython.display as ipd\n",
        "from flowtron import Flowtron\n",
        "import matplotlib.pylab as plt\n",
        "from train import update_params\n",
        "from torch.distributions import Normal\n",
        "\n",
        "sys.path.insert(0, \"tacotron2\")\n",
        "sys.path.insert(0, \"tacotron2/waveglow\")\n",
        "\n",
        "from denoiser import Denoiser"
      ],
      "execution_count": 3,
      "outputs": []
    }
  ]
}